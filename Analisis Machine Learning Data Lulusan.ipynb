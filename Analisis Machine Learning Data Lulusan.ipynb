{
 "cells": [
  {
   "cell_type": "markdown",
   "metadata": {},
   "source": [
    "# Analisa Machine Learning Data Lulusan\n",
    "\n",
    "## Import Data Lulusan"
   ]
  },
  {
   "cell_type": "code",
   "execution_count": 46,
   "metadata": {},
   "outputs": [
    {
     "data": {
      "text/html": [
       "<div>\n",
       "<style scoped>\n",
       "    .dataframe tbody tr th:only-of-type {\n",
       "        vertical-align: middle;\n",
       "    }\n",
       "\n",
       "    .dataframe tbody tr th {\n",
       "        vertical-align: top;\n",
       "    }\n",
       "\n",
       "    .dataframe thead th {\n",
       "        text-align: right;\n",
       "    }\n",
       "</style>\n",
       "<table border=\"1\" class=\"dataframe\">\n",
       "  <thead>\n",
       "    <tr style=\"text-align: right;\">\n",
       "      <th></th>\n",
       "      <th>IPK</th>\n",
       "      <th>Pengetahuan di bidang atau disiplin ilmu anda                                         (rendah)1-5(tinggi)</th>\n",
       "      <th>Pengetahuan di luar bidang atau disiplin ilmu anda        (rendah)1-5(tinggi)</th>\n",
       "      <th>Pengetahuan umum                  (rendah)1-5(tinggi)</th>\n",
       "      <th>Ketrampilan internet                          (rendah)1-5(tinggi)</th>\n",
       "      <th>Ketrampilan komputer                          (rendah)1-5(tinggi)</th>\n",
       "      <th>Ketrampilan                    Sistem Keamanan Komputer (rendah)1-5(tinggi)</th>\n",
       "      <th>Ketrampilan                    Jaringan Komputer (rendah)1-5(tinggi)</th>\n",
       "      <th>Ketrampilan Program Aplikasi WEB                    (rendah)1-5(tinggi)</th>\n",
       "      <th>Ketrampilan Program Aplikasi Multimedia                     (rendah)1-5(tinggi)</th>\n",
       "      <th>...</th>\n",
       "      <th>Toleransi                             (rendah)1-5(tinggi)</th>\n",
       "      <th>Kemampuan adaptasi                         (rendah)1-5(tinggi)</th>\n",
       "      <th>Loyalitas                             (rendah)1-5(tinggi)</th>\n",
       "      <th>Integritas f                          (rendah)1-5(tinggi)</th>\n",
       "      <th>Kepemimpinan                             (rendah)1-5(tinggi)</th>\n",
       "      <th>Kemampuan dalam memegang tanggungjawab                        (rendah)1-5(tinggi)</th>\n",
       "      <th>Inisiatif                          (rendah)1-5(tinggi)</th>\n",
       "      <th>Kemampuan untuk memresentasikan ide/produk/laporan              (rendah)1-5(tinggi)</th>\n",
       "      <th>Kemampuan dalam menulis laporan, memo dan dokumen                    (rendah)1-5(tinggi)</th>\n",
       "      <th>Posisi Pekerjaan</th>\n",
       "    </tr>\n",
       "  </thead>\n",
       "  <tbody>\n",
       "    <tr>\n",
       "      <th>0</th>\n",
       "      <td>2.49</td>\n",
       "      <td>5</td>\n",
       "      <td>5</td>\n",
       "      <td>5</td>\n",
       "      <td>5</td>\n",
       "      <td>5</td>\n",
       "      <td>5</td>\n",
       "      <td>5</td>\n",
       "      <td>3</td>\n",
       "      <td>3</td>\n",
       "      <td>...</td>\n",
       "      <td>5</td>\n",
       "      <td>5</td>\n",
       "      <td>5</td>\n",
       "      <td>5</td>\n",
       "      <td>5</td>\n",
       "      <td>5</td>\n",
       "      <td>5</td>\n",
       "      <td>3</td>\n",
       "      <td>3</td>\n",
       "      <td>Networking engineer</td>\n",
       "    </tr>\n",
       "    <tr>\n",
       "      <th>1</th>\n",
       "      <td>3.01</td>\n",
       "      <td>5</td>\n",
       "      <td>5</td>\n",
       "      <td>5</td>\n",
       "      <td>5</td>\n",
       "      <td>5</td>\n",
       "      <td>3</td>\n",
       "      <td>3</td>\n",
       "      <td>3</td>\n",
       "      <td>3</td>\n",
       "      <td>...</td>\n",
       "      <td>5</td>\n",
       "      <td>5</td>\n",
       "      <td>5</td>\n",
       "      <td>5</td>\n",
       "      <td>3</td>\n",
       "      <td>5</td>\n",
       "      <td>5</td>\n",
       "      <td>5</td>\n",
       "      <td>5</td>\n",
       "      <td>System administrator</td>\n",
       "    </tr>\n",
       "    <tr>\n",
       "      <th>2</th>\n",
       "      <td>3.07</td>\n",
       "      <td>5</td>\n",
       "      <td>5</td>\n",
       "      <td>5</td>\n",
       "      <td>5</td>\n",
       "      <td>5</td>\n",
       "      <td>3</td>\n",
       "      <td>3</td>\n",
       "      <td>3</td>\n",
       "      <td>3</td>\n",
       "      <td>...</td>\n",
       "      <td>5</td>\n",
       "      <td>5</td>\n",
       "      <td>5</td>\n",
       "      <td>5</td>\n",
       "      <td>3</td>\n",
       "      <td>5</td>\n",
       "      <td>5</td>\n",
       "      <td>5</td>\n",
       "      <td>5</td>\n",
       "      <td>System administrator</td>\n",
       "    </tr>\n",
       "    <tr>\n",
       "      <th>3</th>\n",
       "      <td>2.78</td>\n",
       "      <td>5</td>\n",
       "      <td>5</td>\n",
       "      <td>5</td>\n",
       "      <td>5</td>\n",
       "      <td>5</td>\n",
       "      <td>3</td>\n",
       "      <td>3</td>\n",
       "      <td>3</td>\n",
       "      <td>3</td>\n",
       "      <td>...</td>\n",
       "      <td>5</td>\n",
       "      <td>5</td>\n",
       "      <td>5</td>\n",
       "      <td>5</td>\n",
       "      <td>3</td>\n",
       "      <td>5</td>\n",
       "      <td>5</td>\n",
       "      <td>5</td>\n",
       "      <td>5</td>\n",
       "      <td>System administrator</td>\n",
       "    </tr>\n",
       "    <tr>\n",
       "      <th>4</th>\n",
       "      <td>2.92</td>\n",
       "      <td>5</td>\n",
       "      <td>5</td>\n",
       "      <td>5</td>\n",
       "      <td>5</td>\n",
       "      <td>5</td>\n",
       "      <td>3</td>\n",
       "      <td>3</td>\n",
       "      <td>3</td>\n",
       "      <td>3</td>\n",
       "      <td>...</td>\n",
       "      <td>5</td>\n",
       "      <td>5</td>\n",
       "      <td>5</td>\n",
       "      <td>5</td>\n",
       "      <td>3</td>\n",
       "      <td>5</td>\n",
       "      <td>5</td>\n",
       "      <td>5</td>\n",
       "      <td>5</td>\n",
       "      <td>System administrator</td>\n",
       "    </tr>\n",
       "    <tr>\n",
       "      <th>...</th>\n",
       "      <td>...</td>\n",
       "      <td>...</td>\n",
       "      <td>...</td>\n",
       "      <td>...</td>\n",
       "      <td>...</td>\n",
       "      <td>...</td>\n",
       "      <td>...</td>\n",
       "      <td>...</td>\n",
       "      <td>...</td>\n",
       "      <td>...</td>\n",
       "      <td>...</td>\n",
       "      <td>...</td>\n",
       "      <td>...</td>\n",
       "      <td>...</td>\n",
       "      <td>...</td>\n",
       "      <td>...</td>\n",
       "      <td>...</td>\n",
       "      <td>...</td>\n",
       "      <td>...</td>\n",
       "      <td>...</td>\n",
       "      <td>...</td>\n",
       "    </tr>\n",
       "    <tr>\n",
       "      <th>1269</th>\n",
       "      <td>3.28</td>\n",
       "      <td>5</td>\n",
       "      <td>5</td>\n",
       "      <td>5</td>\n",
       "      <td>5</td>\n",
       "      <td>5</td>\n",
       "      <td>4</td>\n",
       "      <td>3</td>\n",
       "      <td>5</td>\n",
       "      <td>5</td>\n",
       "      <td>...</td>\n",
       "      <td>5</td>\n",
       "      <td>5</td>\n",
       "      <td>5</td>\n",
       "      <td>5</td>\n",
       "      <td>4</td>\n",
       "      <td>5</td>\n",
       "      <td>5</td>\n",
       "      <td>3</td>\n",
       "      <td>3</td>\n",
       "      <td>Software engineer</td>\n",
       "    </tr>\n",
       "    <tr>\n",
       "      <th>1270</th>\n",
       "      <td>3.03</td>\n",
       "      <td>4</td>\n",
       "      <td>5</td>\n",
       "      <td>5</td>\n",
       "      <td>5</td>\n",
       "      <td>5</td>\n",
       "      <td>3</td>\n",
       "      <td>3</td>\n",
       "      <td>5</td>\n",
       "      <td>5</td>\n",
       "      <td>...</td>\n",
       "      <td>5</td>\n",
       "      <td>5</td>\n",
       "      <td>5</td>\n",
       "      <td>5</td>\n",
       "      <td>3</td>\n",
       "      <td>5</td>\n",
       "      <td>5</td>\n",
       "      <td>4</td>\n",
       "      <td>3</td>\n",
       "      <td>Web Programmer</td>\n",
       "    </tr>\n",
       "    <tr>\n",
       "      <th>1271</th>\n",
       "      <td>3.53</td>\n",
       "      <td>4</td>\n",
       "      <td>4</td>\n",
       "      <td>5</td>\n",
       "      <td>5</td>\n",
       "      <td>5</td>\n",
       "      <td>2</td>\n",
       "      <td>3</td>\n",
       "      <td>3</td>\n",
       "      <td>3</td>\n",
       "      <td>...</td>\n",
       "      <td>5</td>\n",
       "      <td>3</td>\n",
       "      <td>5</td>\n",
       "      <td>5</td>\n",
       "      <td>5</td>\n",
       "      <td>5</td>\n",
       "      <td>5</td>\n",
       "      <td>3</td>\n",
       "      <td>5</td>\n",
       "      <td>Staff Administrasi</td>\n",
       "    </tr>\n",
       "    <tr>\n",
       "      <th>1272</th>\n",
       "      <td>3.09</td>\n",
       "      <td>5</td>\n",
       "      <td>5</td>\n",
       "      <td>5</td>\n",
       "      <td>5</td>\n",
       "      <td>5</td>\n",
       "      <td>3</td>\n",
       "      <td>4</td>\n",
       "      <td>4</td>\n",
       "      <td>5</td>\n",
       "      <td>...</td>\n",
       "      <td>5</td>\n",
       "      <td>5</td>\n",
       "      <td>5</td>\n",
       "      <td>5</td>\n",
       "      <td>3</td>\n",
       "      <td>5</td>\n",
       "      <td>5</td>\n",
       "      <td>4</td>\n",
       "      <td>5</td>\n",
       "      <td>IT Quality Control</td>\n",
       "    </tr>\n",
       "    <tr>\n",
       "      <th>1273</th>\n",
       "      <td>3.10</td>\n",
       "      <td>5</td>\n",
       "      <td>5</td>\n",
       "      <td>5</td>\n",
       "      <td>5</td>\n",
       "      <td>5</td>\n",
       "      <td>3</td>\n",
       "      <td>3</td>\n",
       "      <td>5</td>\n",
       "      <td>5</td>\n",
       "      <td>...</td>\n",
       "      <td>5</td>\n",
       "      <td>5</td>\n",
       "      <td>5</td>\n",
       "      <td>5</td>\n",
       "      <td>5</td>\n",
       "      <td>5</td>\n",
       "      <td>5</td>\n",
       "      <td>4</td>\n",
       "      <td>4</td>\n",
       "      <td>Design Grafis</td>\n",
       "    </tr>\n",
       "  </tbody>\n",
       "</table>\n",
       "<p>1274 rows × 32 columns</p>\n",
       "</div>"
      ],
      "text/plain": [
       "       IPK  \\\n",
       "0     2.49   \n",
       "1     3.01   \n",
       "2     3.07   \n",
       "3     2.78   \n",
       "4     2.92   \n",
       "...    ...   \n",
       "1269  3.28   \n",
       "1270  3.03   \n",
       "1271  3.53   \n",
       "1272  3.09   \n",
       "1273  3.10   \n",
       "\n",
       "       Pengetahuan di bidang atau disiplin ilmu anda                                         (rendah)1-5(tinggi)  \\\n",
       "0                                                     5                                                            \n",
       "1                                                     5                                                            \n",
       "2                                                     5                                                            \n",
       "3                                                     5                                                            \n",
       "4                                                     5                                                            \n",
       "...                                                 ...                                                            \n",
       "1269                                                  5                                                            \n",
       "1270                                                  4                                                            \n",
       "1271                                                  4                                                            \n",
       "1272                                                  5                                                            \n",
       "1273                                                  5                                                            \n",
       "\n",
       "      Pengetahuan di luar bidang atau disiplin ilmu anda        (rendah)1-5(tinggi)  \\\n",
       "0                                                     5                               \n",
       "1                                                     5                               \n",
       "2                                                     5                               \n",
       "3                                                     5                               \n",
       "4                                                     5                               \n",
       "...                                                 ...                               \n",
       "1269                                                  5                               \n",
       "1270                                                  5                               \n",
       "1271                                                  4                               \n",
       "1272                                                  5                               \n",
       "1273                                                  5                               \n",
       "\n",
       "      Pengetahuan umum                  (rendah)1-5(tinggi)  \\\n",
       "0                                                     5       \n",
       "1                                                     5       \n",
       "2                                                     5       \n",
       "3                                                     5       \n",
       "4                                                     5       \n",
       "...                                                 ...       \n",
       "1269                                                  5       \n",
       "1270                                                  5       \n",
       "1271                                                  5       \n",
       "1272                                                  5       \n",
       "1273                                                  5       \n",
       "\n",
       "      Ketrampilan internet                          (rendah)1-5(tinggi)  \\\n",
       "0                                                     5                   \n",
       "1                                                     5                   \n",
       "2                                                     5                   \n",
       "3                                                     5                   \n",
       "4                                                     5                   \n",
       "...                                                 ...                   \n",
       "1269                                                  5                   \n",
       "1270                                                  5                   \n",
       "1271                                                  5                   \n",
       "1272                                                  5                   \n",
       "1273                                                  5                   \n",
       "\n",
       "      Ketrampilan komputer                          (rendah)1-5(tinggi)  \\\n",
       "0                                                     5                   \n",
       "1                                                     5                   \n",
       "2                                                     5                   \n",
       "3                                                     5                   \n",
       "4                                                     5                   \n",
       "...                                                 ...                   \n",
       "1269                                                  5                   \n",
       "1270                                                  5                   \n",
       "1271                                                  5                   \n",
       "1272                                                  5                   \n",
       "1273                                                  5                   \n",
       "\n",
       "      Ketrampilan                    Sistem Keamanan Komputer (rendah)1-5(tinggi)  \\\n",
       "0                                                     5                             \n",
       "1                                                     3                             \n",
       "2                                                     3                             \n",
       "3                                                     3                             \n",
       "4                                                     3                             \n",
       "...                                                 ...                             \n",
       "1269                                                  4                             \n",
       "1270                                                  3                             \n",
       "1271                                                  2                             \n",
       "1272                                                  3                             \n",
       "1273                                                  3                             \n",
       "\n",
       "      Ketrampilan                    Jaringan Komputer (rendah)1-5(tinggi)  \\\n",
       "0                                                     5                      \n",
       "1                                                     3                      \n",
       "2                                                     3                      \n",
       "3                                                     3                      \n",
       "4                                                     3                      \n",
       "...                                                 ...                      \n",
       "1269                                                  3                      \n",
       "1270                                                  3                      \n",
       "1271                                                  3                      \n",
       "1272                                                  4                      \n",
       "1273                                                  3                      \n",
       "\n",
       "      Ketrampilan Program Aplikasi WEB                    (rendah)1-5(tinggi)  \\\n",
       "0                                                     3                         \n",
       "1                                                     3                         \n",
       "2                                                     3                         \n",
       "3                                                     3                         \n",
       "4                                                     3                         \n",
       "...                                                 ...                         \n",
       "1269                                                  5                         \n",
       "1270                                                  5                         \n",
       "1271                                                  3                         \n",
       "1272                                                  4                         \n",
       "1273                                                  5                         \n",
       "\n",
       "      Ketrampilan Program Aplikasi Multimedia                     (rendah)1-5(tinggi)  \\\n",
       "0                                                     3                                 \n",
       "1                                                     3                                 \n",
       "2                                                     3                                 \n",
       "3                                                     3                                 \n",
       "4                                                     3                                 \n",
       "...                                                 ...                                 \n",
       "1269                                                  5                                 \n",
       "1270                                                  5                                 \n",
       "1271                                                  3                                 \n",
       "1272                                                  5                                 \n",
       "1273                                                  5                                 \n",
       "\n",
       "      ...  Toleransi                             (rendah)1-5(tinggi)  \\\n",
       "0     ...                                                  5           \n",
       "1     ...                                                  5           \n",
       "2     ...                                                  5           \n",
       "3     ...                                                  5           \n",
       "4     ...                                                  5           \n",
       "...   ...                                                ...           \n",
       "1269  ...                                                  5           \n",
       "1270  ...                                                  5           \n",
       "1271  ...                                                  5           \n",
       "1272  ...                                                  5           \n",
       "1273  ...                                                  5           \n",
       "\n",
       "      Kemampuan adaptasi                         (rendah)1-5(tinggi)  \\\n",
       "0                                                     5                \n",
       "1                                                     5                \n",
       "2                                                     5                \n",
       "3                                                     5                \n",
       "4                                                     5                \n",
       "...                                                 ...                \n",
       "1269                                                  5                \n",
       "1270                                                  5                \n",
       "1271                                                  3                \n",
       "1272                                                  5                \n",
       "1273                                                  5                \n",
       "\n",
       "      Loyalitas                             (rendah)1-5(tinggi)  \\\n",
       "0                                                     5           \n",
       "1                                                     5           \n",
       "2                                                     5           \n",
       "3                                                     5           \n",
       "4                                                     5           \n",
       "...                                                 ...           \n",
       "1269                                                  5           \n",
       "1270                                                  5           \n",
       "1271                                                  5           \n",
       "1272                                                  5           \n",
       "1273                                                  5           \n",
       "\n",
       "      Integritas f                          (rendah)1-5(tinggi)  \\\n",
       "0                                                     5           \n",
       "1                                                     5           \n",
       "2                                                     5           \n",
       "3                                                     5           \n",
       "4                                                     5           \n",
       "...                                                 ...           \n",
       "1269                                                  5           \n",
       "1270                                                  5           \n",
       "1271                                                  5           \n",
       "1272                                                  5           \n",
       "1273                                                  5           \n",
       "\n",
       "      Kepemimpinan                             (rendah)1-5(tinggi)  \\\n",
       "0                                                     5              \n",
       "1                                                     3              \n",
       "2                                                     3              \n",
       "3                                                     3              \n",
       "4                                                     3              \n",
       "...                                                 ...              \n",
       "1269                                                  4              \n",
       "1270                                                  3              \n",
       "1271                                                  5              \n",
       "1272                                                  3              \n",
       "1273                                                  5              \n",
       "\n",
       "      Kemampuan dalam memegang tanggungjawab                        (rendah)1-5(tinggi)  \\\n",
       "0                                                     5                                   \n",
       "1                                                     5                                   \n",
       "2                                                     5                                   \n",
       "3                                                     5                                   \n",
       "4                                                     5                                   \n",
       "...                                                 ...                                   \n",
       "1269                                                  5                                   \n",
       "1270                                                  5                                   \n",
       "1271                                                  5                                   \n",
       "1272                                                  5                                   \n",
       "1273                                                  5                                   \n",
       "\n",
       "      Inisiatif                          (rendah)1-5(tinggi)  \\\n",
       "0                                                     5        \n",
       "1                                                     5        \n",
       "2                                                     5        \n",
       "3                                                     5        \n",
       "4                                                     5        \n",
       "...                                                 ...        \n",
       "1269                                                  5        \n",
       "1270                                                  5        \n",
       "1271                                                  5        \n",
       "1272                                                  5        \n",
       "1273                                                  5        \n",
       "\n",
       "      Kemampuan untuk memresentasikan ide/produk/laporan              (rendah)1-5(tinggi)   \\\n",
       "0                                                     3                                      \n",
       "1                                                     5                                      \n",
       "2                                                     5                                      \n",
       "3                                                     5                                      \n",
       "4                                                     5                                      \n",
       "...                                                 ...                                      \n",
       "1269                                                  3                                      \n",
       "1270                                                  4                                      \n",
       "1271                                                  3                                      \n",
       "1272                                                  4                                      \n",
       "1273                                                  4                                      \n",
       "\n",
       "      Kemampuan dalam menulis laporan, memo dan dokumen                    (rendah)1-5(tinggi)  \\\n",
       "0                                                     3                                          \n",
       "1                                                     5                                          \n",
       "2                                                     5                                          \n",
       "3                                                     5                                          \n",
       "4                                                     5                                          \n",
       "...                                                 ...                                          \n",
       "1269                                                  3                                          \n",
       "1270                                                  3                                          \n",
       "1271                                                  5                                          \n",
       "1272                                                  5                                          \n",
       "1273                                                  4                                          \n",
       "\n",
       "          Posisi Pekerjaan  \n",
       "0      Networking engineer  \n",
       "1     System administrator  \n",
       "2     System administrator  \n",
       "3     System administrator  \n",
       "4     System administrator  \n",
       "...                    ...  \n",
       "1269     Software engineer  \n",
       "1270        Web Programmer  \n",
       "1271    Staff Administrasi  \n",
       "1272    IT Quality Control  \n",
       "1273         Design Grafis  \n",
       "\n",
       "[1274 rows x 32 columns]"
      ]
     },
     "execution_count": 46,
     "metadata": {},
     "output_type": "execute_result"
    }
   ],
   "source": [
    "import pandas as pd\n",
    "import numpy as np\n",
    "import chardet\n",
    "from sklearn import metrics\n",
    "from sklearn.naive_bayes import GaussianNB\n",
    "from sklearn.tree import DecisionTreeClassifier\n",
    "from sklearn.metrics import classification_report, confusion_matrix\n",
    "file = 'data_lulusan.csv'\n",
    "\n",
    "import pandas as pd\n",
    "df = pd.read_csv('data_lulusan.csv')\n",
    "df"
   ]
  },
  {
   "cell_type": "markdown",
   "metadata": {},
   "source": [
    "## Distribusi Label\n",
    "Label pada data ini ada pada kolom Posisi Pekerjaan dan akan dirubah menjadi kolom label untuk dipisahkan"
   ]
  },
  {
   "cell_type": "code",
   "execution_count": 47,
   "metadata": {},
   "outputs": [
    {
     "data": {
      "text/plain": [
       "System administrator    214\n",
       "Programmer              113\n",
       "EDP Operator             97\n",
       "Operator Komputer        56\n",
       "Staff IT                 54\n",
       "Web Designer             52\n",
       "Technical engineer       51\n",
       "Software engineer        48\n",
       "Staff Administrasi       47\n",
       "IT Support               46\n",
       "Teknik Mesin             45\n",
       "Sekretaris               42\n",
       "IT Quality Control       41\n",
       "Networking engineer      41\n",
       "Sistem analis            39\n",
       "Design Grafis            36\n",
       "Digital Marketing        36\n",
       "Call Centre              36\n",
       "Staff IT Network         34\n",
       "MIS Director             30\n",
       "Web Programmer           29\n",
       "Recepsionist             23\n",
       "Customer Service         21\n",
       "Sales                    16\n",
       "Agent Monitoring ATM     15\n",
       "Guru TIK                 12\n",
       "Name: label, dtype: int64"
      ]
     },
     "execution_count": 47,
     "metadata": {},
     "output_type": "execute_result"
    }
   ],
   "source": [
    "df = df.rename(columns = {'Posisi Pekerjaan': 'label'})\n",
    "df['label'].value_counts()"
   ]
  },
  {
   "cell_type": "markdown",
   "metadata": {},
   "source": [
    "## Label Encoding\n",
    "\n",
    "Label encoding mengubah setiap nilai alfabetik dalam kolom menjadi angka yang berurutan"
   ]
  },
  {
   "cell_type": "code",
   "execution_count": 48,
   "metadata": {},
   "outputs": [],
   "source": [
    "from sklearn.preprocessing import LabelEncoder\n",
    "le_posisi_pekerjaan = LabelEncoder()\n",
    "le_posisi_pekerjaan.fit(df[\"label\"].astype(str))\n",
    "\n",
    "df['label'] = le_posisi_pekerjaan.transform(df[\"label\"].astype(str))"
   ]
  },
  {
   "cell_type": "markdown",
   "metadata": {},
   "source": [
    "## Membagi Data menjadi Set Pelatihan dan Pengujian\n",
    "\n",
    "Untuk menilai prediksi kita, kita perlu menggunakan satu set pelatihan dan pengujian. Model tersebut belajar dari data pelatihan dan kemudian membuat prediksi pada data pengujian. Karena kami memiliki jawaban yang benar untuk data pengujian, kami dapat mengetahui seberapa baik model dapat menggeneralisasi ke data baru. Penting untuk hanya menggunakan set pengujian sekali, karena ini dimaksudkan sebagai perkiraan seberapa baik performa model pada data baru.\n",
    "\n",
    "Kami akan menyimpan 20% contoh untuk pengujian."
   ]
  },
  {
   "cell_type": "code",
   "execution_count": 49,
   "metadata": {},
   "outputs": [],
   "source": [
    "from sklearn.model_selection import train_test_split\n",
    "\n",
    "RSEED =50\n",
    "# Extract the labels\n",
    "Y = df['label']\n",
    "X = df.iloc[:,:-1].values\n",
    "\n",
    "# 20% examples in test data\n",
    "X_train, X_test, y_train, y_test = train_test_split(X, Y, test_size=0.2)\n"
   ]
  },
  {
   "cell_type": "markdown",
   "metadata": {},
   "source": [
    "#### Imputasi nilai yang hilang\n",
    "\n",
    "Kita akan mengisi nilai yang hilang dengan mean dari kolom. Penting untuk dicatat bahwa kita mengisi nilai yang hilang di set pengujian dengan mean kolom di data pelatihan. Ini diperlukan karena jika kita mendapatkan data baru, kita harus menggunakan data pelatihan untuk mengisi nilai yang hilang."
   ]
  },
  {
   "cell_type": "code",
   "execution_count": 50,
   "metadata": {},
   "outputs": [
    {
     "data": {
      "text/plain": [
       "(1019, 31)"
      ]
     },
     "execution_count": 50,
     "metadata": {},
     "output_type": "execute_result"
    }
   ],
   "source": [
    "X_train.shape"
   ]
  },
  {
   "cell_type": "code",
   "execution_count": 51,
   "metadata": {},
   "outputs": [
    {
     "data": {
      "text/plain": [
       "(255, 31)"
      ]
     },
     "execution_count": 51,
     "metadata": {},
     "output_type": "execute_result"
    }
   ],
   "source": [
    "X_test.shape"
   ]
  },
  {
   "cell_type": "markdown",
   "metadata": {},
   "source": [
    "## Random Forest"
   ]
  },
  {
   "cell_type": "code",
   "execution_count": 52,
   "metadata": {},
   "outputs": [],
   "source": [
    "from sklearn.ensemble import RandomForestClassifier\n",
    "\n",
    "# Create the model with 100 trees\n",
    "rf_model = RandomForestClassifier(n_estimators=100)\n",
    "\n",
    "# Fit on training data\n",
    "rf_model.fit(X_train, y_train)\n",
    "\n",
    "rf_predictions = rf_model.predict(X_test)\n",
    "rf_probs = rf_model.predict_proba(X_test)[:, 1]\n"
   ]
  },
  {
   "cell_type": "markdown",
   "metadata": {},
   "source": [
    "### Akurasi"
   ]
  },
  {
   "cell_type": "code",
   "execution_count": 53,
   "metadata": {},
   "outputs": [
    {
     "name": "stdout",
     "output_type": "stream",
     "text": [
      "Accuracy: 0.03137254901960784\n"
     ]
    }
   ],
   "source": [
    "print(\"Accuracy:\",metrics.accuracy_score(y_test, rf_probs))"
   ]
  },
  {
   "cell_type": "markdown",
   "metadata": {},
   "source": [
    "### Confussion Matrix"
   ]
  },
  {
   "cell_type": "code",
   "execution_count": 54,
   "metadata": {},
   "outputs": [
    {
     "name": "stdout",
     "output_type": "stream",
     "text": [
      "[[ 2  0  0  0  0  0  0  0  0  0  0  0  0  0  0  0  0  0  0  0  0  0  0  0\n",
      "   0]\n",
      " [ 0  6  0  0  0  0  0  0  0  0  0  0  0  0  0  0  0  0  0  0  0  0  0  0\n",
      "   0]\n",
      " [ 4  0  0  0  0  0  0  0  0  0  0  0  0  0  0  0  0  0  0  0  0  0  0  0\n",
      "   0]\n",
      " [11  0  0  0  0  0  0  0  0  0  0  0  0  0  0  0  0  0  0  0  0  0  0  0\n",
      "   0]\n",
      " [11  0  0  0  0  0  0  0  0  0  0  0  0  0  0  0  0  0  0  0  0  0  0  0\n",
      "   0]\n",
      " [18  0  0  0  0  0  0  0  0  0  0  0  0  0  0  0  0  0  0  0  0  0  0  0\n",
      "   0]\n",
      " [ 8  0  0  0  0  0  0  0  0  0  0  0  0  0  0  0  0  0  0  0  0  0  0  0\n",
      "   0]\n",
      " [ 7  0  0  0  0  0  0  0  0  0  0  0  0  0  0  0  0  0  0  0  0  0  0  0\n",
      "   0]\n",
      " [ 5  0  0  0  0  0  0  0  0  0  0  0  0  0  0  0  0  0  0  0  0  0  0  0\n",
      "   0]\n",
      " [ 8  0  0  0  0  0  0  0  0  0  0  0  0  0  0  0  0  0  0  0  0  0  0  0\n",
      "   0]\n",
      " [17  0  0  0  0  0  0  0  0  0  0  0  0  0  0  0  0  0  0  0  0  0  0  0\n",
      "   0]\n",
      " [21  0  0  0  0  0  0  0  0  0  0  0  0  0  0  0  0  0  0  0  0  0  0  0\n",
      "   0]\n",
      " [ 5  0  0  0  0  0  0  0  0  0  0  0  0  0  0  0  0  0  0  0  0  0  0  0\n",
      "   0]\n",
      " [ 2  0  0  0  0  0  0  0  0  0  0  0  0  0  0  0  0  0  0  0  0  0  0  0\n",
      "   0]\n",
      " [12  0  0  0  0  0  0  0  0  0  0  0  0  0  0  0  0  0  0  0  0  0  0  0\n",
      "   0]\n",
      " [11  0  0  0  0  0  0  0  0  0  0  0  0  0  0  0  0  0  0  0  0  0  0  0\n",
      "   0]\n",
      " [12  0  0  0  0  0  0  0  0  0  0  0  0  0  0  0  0  0  0  0  0  0  0  0\n",
      "   0]\n",
      " [ 8  0  0  0  0  0  0  0  0  0  0  0  0  0  0  0  0  0  0  0  0  0  0  0\n",
      "   0]\n",
      " [11  0  0  0  0  0  0  0  0  0  0  0  0  0  0  0  0  0  0  0  0  0  0  0\n",
      "   0]\n",
      " [ 5  0  0  0  0  0  0  0  0  0  0  0  0  0  0  0  0  0  0  0  0  0  0  0\n",
      "   0]\n",
      " [39  0  0  0  0  0  0  0  0  0  0  0  0  0  0  0  0  0  0  0  0  0  0  0\n",
      "   0]\n",
      " [ 9  0  0  0  0  0  0  0  0  0  0  0  0  0  0  0  0  0  0  0  0  0  0  0\n",
      "   0]\n",
      " [ 7  0  0  0  0  0  0  0  0  0  0  0  0  0  0  0  0  0  0  0  0  0  0  0\n",
      "   0]\n",
      " [10  0  0  0  0  0  0  0  0  0  0  0  0  0  0  0  0  0  0  0  0  0  0  0\n",
      "   0]\n",
      " [ 6  0  0  0  0  0  0  0  0  0  0  0  0  0  0  0  0  0  0  0  0  0  0  0\n",
      "   0]]\n"
     ]
    }
   ],
   "source": [
    "print(confusion_matrix(y_test, rf_probs))"
   ]
  },
  {
   "cell_type": "markdown",
   "metadata": {},
   "source": [
    "### Classification Report"
   ]
  },
  {
   "cell_type": "code",
   "execution_count": 55,
   "metadata": {},
   "outputs": [
    {
     "name": "stdout",
     "output_type": "stream",
     "text": [
      "              precision    recall  f1-score   support\n",
      "\n",
      "           0       0.01      1.00      0.02         2\n",
      "           1       1.00      1.00      1.00         6\n",
      "           2       0.00      0.00      0.00         4\n",
      "           3       0.00      0.00      0.00        11\n",
      "           4       0.00      0.00      0.00        11\n",
      "           5       0.00      0.00      0.00        18\n",
      "           7       0.00      0.00      0.00         8\n",
      "           8       0.00      0.00      0.00         7\n",
      "           9       0.00      0.00      0.00         5\n",
      "          10       0.00      0.00      0.00         8\n",
      "          11       0.00      0.00      0.00        17\n",
      "          12       0.00      0.00      0.00        21\n",
      "          13       0.00      0.00      0.00         5\n",
      "          14       0.00      0.00      0.00         2\n",
      "          15       0.00      0.00      0.00        12\n",
      "          16       0.00      0.00      0.00        11\n",
      "          17       0.00      0.00      0.00        12\n",
      "          18       0.00      0.00      0.00         8\n",
      "          19       0.00      0.00      0.00        11\n",
      "          20       0.00      0.00      0.00         5\n",
      "          21       0.00      0.00      0.00        39\n",
      "          22       0.00      0.00      0.00         9\n",
      "          23       0.00      0.00      0.00         7\n",
      "          24       0.00      0.00      0.00        10\n",
      "          25       0.00      0.00      0.00         6\n",
      "\n",
      "    accuracy                           0.03       255\n",
      "   macro avg       0.04      0.08      0.04       255\n",
      "weighted avg       0.02      0.03      0.02       255\n",
      "\n"
     ]
    },
    {
     "name": "stderr",
     "output_type": "stream",
     "text": [
      "/Users/haviansyah/opt/anaconda3/lib/python3.8/site-packages/sklearn/metrics/_classification.py:1221: UndefinedMetricWarning: Precision and F-score are ill-defined and being set to 0.0 in labels with no predicted samples. Use `zero_division` parameter to control this behavior.\n",
      "  _warn_prf(average, modifier, msg_start, len(result))\n"
     ]
    }
   ],
   "source": [
    "print(classification_report(y_test, rf_probs))"
   ]
  },
  {
   "cell_type": "markdown",
   "metadata": {},
   "source": [
    "## Adaboost Classifier"
   ]
  },
  {
   "cell_type": "code",
   "execution_count": 56,
   "metadata": {},
   "outputs": [],
   "source": [
    "from sklearn.ensemble import AdaBoostClassifier\n",
    "# Create adaboost classifer object\n",
    "abc = AdaBoostClassifier(n_estimators=50,\n",
    "                         learning_rate=1)\n",
    "# Train Adaboost Classifer\n",
    "abc_model = abc.fit(X_train, y_train)\n",
    "\n",
    "#Predict the response for test dataset\n",
    "abc_pred = abc_model.predict(X_test)"
   ]
  },
  {
   "cell_type": "markdown",
   "metadata": {},
   "source": [
    "### Akurasi"
   ]
  },
  {
   "cell_type": "code",
   "execution_count": 57,
   "metadata": {},
   "outputs": [
    {
     "name": "stdout",
     "output_type": "stream",
     "text": [
      "Accuracy: 0.8627450980392157\n"
     ]
    }
   ],
   "source": [
    "print(\"Accuracy:\",metrics.accuracy_score(y_test, abc_pred))"
   ]
  },
  {
   "cell_type": "markdown",
   "metadata": {},
   "source": [
    "### Confussion Matrix"
   ]
  },
  {
   "cell_type": "code",
   "execution_count": 58,
   "metadata": {},
   "outputs": [
    {
     "name": "stdout",
     "output_type": "stream",
     "text": [
      "[[0 0 0 0 0 1 0 0 0 0 0 0 0 0 0 0 0 0 0 0 0 0 0 0 0 1]\n",
      " [0 0 0 1 1 0 0 0 0 0 0 0 0 1 0 0 0 1 1 0 0 0 1 0 0 0]\n",
      " [0 0 0 0 0 0 0 1 0 0 0 1 1 0 0 0 0 1 0 0 0 0 0 0 0 0]\n",
      " [0 0 0 0 0 0 0 0 0 0 0 2 2 0 0 2 0 0 0 0 0 4 0 1 0 0]\n",
      " [0 1 0 0 0 1 0 0 1 0 1 1 0 0 0 1 0 1 0 0 0 4 0 0 0 0]\n",
      " [0 1 0 0 0 1 0 1 1 1 1 2 3 0 0 0 1 0 0 2 0 3 0 0 0 1]\n",
      " [0 0 0 0 0 0 0 0 0 0 0 0 0 0 0 0 0 0 0 0 0 0 0 0 0 0]\n",
      " [0 1 1 0 0 1 0 0 0 1 0 0 0 0 0 0 1 0 0 0 0 0 1 1 0 1]\n",
      " [0 0 0 0 1 1 0 0 1 0 0 0 1 1 0 0 0 0 0 0 0 1 0 0 1 0]\n",
      " [0 0 0 0 1 1 0 0 0 0 1 0 1 0 0 0 0 0 0 0 0 0 0 0 0 1]\n",
      " [0 0 0 0 0 0 1 0 0 0 0 1 0 0 0 1 1 0 1 0 0 3 0 0 0 0]\n",
      " [0 0 0 0 0 1 0 0 1 0 1 1 2 1 0 0 0 0 0 4 0 2 0 4 0 0]\n",
      " [0 0 1 1 1 1 0 2 0 1 0 1 0 0 0 0 2 0 2 0 0 5 2 2 0 0]\n",
      " [0 0 0 0 0 0 0 0 2 0 1 0 1 0 0 0 0 0 0 0 0 1 0 0 0 0]\n",
      " [0 0 0 0 0 0 0 0 0 0 0 0 0 0 0 0 0 0 0 0 0 2 0 0 0 0]\n",
      " [1 0 0 1 1 0 0 2 0 0 0 0 2 0 0 0 1 0 1 0 1 1 1 0 0 0]\n",
      " [0 0 0 1 0 1 0 0 0 0 0 0 3 0 0 1 0 0 2 0 0 1 0 1 1 0]\n",
      " [0 0 0 0 0 0 0 1 0 0 0 1 3 1 0 0 1 0 0 0 0 3 0 0 2 0]\n",
      " [0 0 1 0 1 0 0 0 0 0 0 0 0 0 0 1 1 0 0 2 0 1 0 0 0 1]\n",
      " [0 0 0 0 0 0 0 1 0 0 0 0 1 0 0 0 1 2 2 0 1 2 0 0 1 0]\n",
      " [0 0 0 0 0 1 0 0 1 0 0 0 0 1 0 0 0 0 0 0 0 1 0 0 0 1]\n",
      " [3 0 2 0 1 2 0 0 2 1 0 2 3 0 1 1 0 3 3 2 0 9 1 0 3 0]\n",
      " [0 0 0 0 0 2 0 0 1 0 1 1 0 0 0 0 0 0 0 1 0 1 0 0 1 1]\n",
      " [0 1 0 0 0 0 0 0 0 0 1 1 0 0 0 0 0 0 0 0 0 3 0 1 0 0]\n",
      " [1 0 0 0 0 0 0 0 0 0 0 0 1 0 0 0 1 0 0 0 1 3 1 1 1 0]\n",
      " [0 0 0 0 0 0 0 0 1 0 0 0 2 0 0 1 0 0 0 1 0 1 0 0 0 0]]\n"
     ]
    }
   ],
   "source": [
    "print(confusion_matrix(y_test, et_pred))"
   ]
  },
  {
   "cell_type": "markdown",
   "metadata": {},
   "source": [
    "### Classification Report"
   ]
  },
  {
   "cell_type": "code",
   "execution_count": 59,
   "metadata": {},
   "outputs": [
    {
     "name": "stdout",
     "output_type": "stream",
     "text": [
      "              precision    recall  f1-score   support\n",
      "\n",
      "           0       0.00      0.00      0.00         2\n",
      "           1       1.00      1.00      1.00         6\n",
      "           2       0.00      0.00      0.00         4\n",
      "           3       0.00      0.00      0.00        11\n",
      "           4       0.50      1.00      0.67        11\n",
      "           5       1.00      1.00      1.00        18\n",
      "           7       0.42      1.00      0.59         8\n",
      "           8       1.00      1.00      1.00         7\n",
      "           9       0.00      0.00      0.00         5\n",
      "          10       1.00      1.00      1.00         8\n",
      "          11       1.00      1.00      1.00        17\n",
      "          12       1.00      1.00      1.00        21\n",
      "          13       1.00      1.00      1.00         5\n",
      "          14       0.00      0.00      0.00         2\n",
      "          15       0.48      1.00      0.65        12\n",
      "          16       0.00      0.00      0.00        11\n",
      "          17       1.00      1.00      1.00        12\n",
      "          18       1.00      1.00      1.00         8\n",
      "          19       1.00      1.00      1.00        11\n",
      "          20       1.00      1.00      1.00         5\n",
      "          21       1.00      1.00      1.00        39\n",
      "          22       1.00      1.00      1.00         9\n",
      "          23       1.00      1.00      1.00         7\n",
      "          24       1.00      1.00      1.00        10\n",
      "          25       1.00      1.00      1.00         6\n",
      "\n",
      "    accuracy                           0.86       255\n",
      "   macro avg       0.70      0.76      0.72       255\n",
      "weighted avg       0.80      0.86      0.82       255\n",
      "\n"
     ]
    },
    {
     "name": "stderr",
     "output_type": "stream",
     "text": [
      "/Users/haviansyah/opt/anaconda3/lib/python3.8/site-packages/sklearn/metrics/_classification.py:1221: UndefinedMetricWarning: Precision and F-score are ill-defined and being set to 0.0 in labels with no predicted samples. Use `zero_division` parameter to control this behavior.\n",
      "  _warn_prf(average, modifier, msg_start, len(result))\n"
     ]
    }
   ],
   "source": [
    "print(classification_report(y_test, abc_pred))"
   ]
  },
  {
   "cell_type": "markdown",
   "metadata": {},
   "source": [
    "## Extra Trees Classifier\n"
   ]
  },
  {
   "cell_type": "code",
   "execution_count": 60,
   "metadata": {},
   "outputs": [],
   "source": [
    "from sklearn.ensemble import ExtraTreesClassifier\n",
    "# Create adaboost classifer object\n",
    "et = ExtraTreesClassifier()\n",
    "# Train Adaboost Classifer\n",
    "et_model = et.fit(X_train, y_train)\n",
    "\n",
    "#Predict the response for test dataset\n",
    "et_pred = et_model.predict(X_test)"
   ]
  },
  {
   "cell_type": "markdown",
   "metadata": {},
   "source": [
    "### Akurasi"
   ]
  },
  {
   "cell_type": "code",
   "execution_count": 61,
   "metadata": {},
   "outputs": [
    {
     "name": "stdout",
     "output_type": "stream",
     "text": [
      "Accuracy: 1.0\n"
     ]
    }
   ],
   "source": [
    "print(\"Accuracy:\",metrics.accuracy_score(y_test, et_pred))"
   ]
  },
  {
   "cell_type": "markdown",
   "metadata": {},
   "source": [
    "### Confussion Matrix"
   ]
  },
  {
   "cell_type": "code",
   "execution_count": 62,
   "metadata": {},
   "outputs": [
    {
     "name": "stdout",
     "output_type": "stream",
     "text": [
      "[[ 2  0  0  0  0  0  0  0  0  0  0  0  0  0  0  0  0  0  0  0  0  0  0  0\n",
      "   0]\n",
      " [ 0  6  0  0  0  0  0  0  0  0  0  0  0  0  0  0  0  0  0  0  0  0  0  0\n",
      "   0]\n",
      " [ 0  0  4  0  0  0  0  0  0  0  0  0  0  0  0  0  0  0  0  0  0  0  0  0\n",
      "   0]\n",
      " [ 0  0  0 11  0  0  0  0  0  0  0  0  0  0  0  0  0  0  0  0  0  0  0  0\n",
      "   0]\n",
      " [ 0  0  0  0 11  0  0  0  0  0  0  0  0  0  0  0  0  0  0  0  0  0  0  0\n",
      "   0]\n",
      " [ 0  0  0  0  0 18  0  0  0  0  0  0  0  0  0  0  0  0  0  0  0  0  0  0\n",
      "   0]\n",
      " [ 0  0  0  0  0  0  8  0  0  0  0  0  0  0  0  0  0  0  0  0  0  0  0  0\n",
      "   0]\n",
      " [ 0  0  0  0  0  0  0  7  0  0  0  0  0  0  0  0  0  0  0  0  0  0  0  0\n",
      "   0]\n",
      " [ 0  0  0  0  0  0  0  0  5  0  0  0  0  0  0  0  0  0  0  0  0  0  0  0\n",
      "   0]\n",
      " [ 0  0  0  0  0  0  0  0  0  8  0  0  0  0  0  0  0  0  0  0  0  0  0  0\n",
      "   0]\n",
      " [ 0  0  0  0  0  0  0  0  0  0 17  0  0  0  0  0  0  0  0  0  0  0  0  0\n",
      "   0]\n",
      " [ 0  0  0  0  0  0  0  0  0  0  0 21  0  0  0  0  0  0  0  0  0  0  0  0\n",
      "   0]\n",
      " [ 0  0  0  0  0  0  0  0  0  0  0  0  5  0  0  0  0  0  0  0  0  0  0  0\n",
      "   0]\n",
      " [ 0  0  0  0  0  0  0  0  0  0  0  0  0  2  0  0  0  0  0  0  0  0  0  0\n",
      "   0]\n",
      " [ 0  0  0  0  0  0  0  0  0  0  0  0  0  0 12  0  0  0  0  0  0  0  0  0\n",
      "   0]\n",
      " [ 0  0  0  0  0  0  0  0  0  0  0  0  0  0  0 11  0  0  0  0  0  0  0  0\n",
      "   0]\n",
      " [ 0  0  0  0  0  0  0  0  0  0  0  0  0  0  0  0 12  0  0  0  0  0  0  0\n",
      "   0]\n",
      " [ 0  0  0  0  0  0  0  0  0  0  0  0  0  0  0  0  0  8  0  0  0  0  0  0\n",
      "   0]\n",
      " [ 0  0  0  0  0  0  0  0  0  0  0  0  0  0  0  0  0  0 11  0  0  0  0  0\n",
      "   0]\n",
      " [ 0  0  0  0  0  0  0  0  0  0  0  0  0  0  0  0  0  0  0  5  0  0  0  0\n",
      "   0]\n",
      " [ 0  0  0  0  0  0  0  0  0  0  0  0  0  0  0  0  0  0  0  0 39  0  0  0\n",
      "   0]\n",
      " [ 0  0  0  0  0  0  0  0  0  0  0  0  0  0  0  0  0  0  0  0  0  9  0  0\n",
      "   0]\n",
      " [ 0  0  0  0  0  0  0  0  0  0  0  0  0  0  0  0  0  0  0  0  0  0  7  0\n",
      "   0]\n",
      " [ 0  0  0  0  0  0  0  0  0  0  0  0  0  0  0  0  0  0  0  0  0  0  0 10\n",
      "   0]\n",
      " [ 0  0  0  0  0  0  0  0  0  0  0  0  0  0  0  0  0  0  0  0  0  0  0  0\n",
      "   6]]\n"
     ]
    }
   ],
   "source": [
    "print(confusion_matrix(y_test, et_pred))"
   ]
  },
  {
   "cell_type": "markdown",
   "metadata": {},
   "source": [
    "### Classification Report"
   ]
  },
  {
   "cell_type": "code",
   "execution_count": 63,
   "metadata": {},
   "outputs": [
    {
     "name": "stdout",
     "output_type": "stream",
     "text": [
      "              precision    recall  f1-score   support\n",
      "\n",
      "           0       1.00      1.00      1.00         2\n",
      "           1       1.00      1.00      1.00         6\n",
      "           2       1.00      1.00      1.00         4\n",
      "           3       1.00      1.00      1.00        11\n",
      "           4       1.00      1.00      1.00        11\n",
      "           5       1.00      1.00      1.00        18\n",
      "           7       1.00      1.00      1.00         8\n",
      "           8       1.00      1.00      1.00         7\n",
      "           9       1.00      1.00      1.00         5\n",
      "          10       1.00      1.00      1.00         8\n",
      "          11       1.00      1.00      1.00        17\n",
      "          12       1.00      1.00      1.00        21\n",
      "          13       1.00      1.00      1.00         5\n",
      "          14       1.00      1.00      1.00         2\n",
      "          15       1.00      1.00      1.00        12\n",
      "          16       1.00      1.00      1.00        11\n",
      "          17       1.00      1.00      1.00        12\n",
      "          18       1.00      1.00      1.00         8\n",
      "          19       1.00      1.00      1.00        11\n",
      "          20       1.00      1.00      1.00         5\n",
      "          21       1.00      1.00      1.00        39\n",
      "          22       1.00      1.00      1.00         9\n",
      "          23       1.00      1.00      1.00         7\n",
      "          24       1.00      1.00      1.00        10\n",
      "          25       1.00      1.00      1.00         6\n",
      "\n",
      "    accuracy                           1.00       255\n",
      "   macro avg       1.00      1.00      1.00       255\n",
      "weighted avg       1.00      1.00      1.00       255\n",
      "\n"
     ]
    }
   ],
   "source": [
    "print(classification_report(y_test, et_pred))"
   ]
  },
  {
   "cell_type": "markdown",
   "metadata": {},
   "source": [
    "# Gradient Boosting Classifier"
   ]
  },
  {
   "cell_type": "code",
   "execution_count": 64,
   "metadata": {},
   "outputs": [],
   "source": [
    "from sklearn.ensemble import GradientBoostingClassifier\n",
    "\n",
    "gb = GradientBoostingClassifier()\n",
    "gb_model = gb.fit(X_train, y_train)\n",
    "gb_pred = gb_model.predict(X_test)"
   ]
  },
  {
   "cell_type": "markdown",
   "metadata": {},
   "source": [
    "### Akurasi\n"
   ]
  },
  {
   "cell_type": "code",
   "execution_count": 65,
   "metadata": {},
   "outputs": [
    {
     "name": "stdout",
     "output_type": "stream",
     "text": [
      "Accuracy: 1.0\n"
     ]
    }
   ],
   "source": [
    "print(\"Accuracy:\",metrics.accuracy_score(y_test, gb_pred))"
   ]
  },
  {
   "cell_type": "markdown",
   "metadata": {},
   "source": [
    "### Confussion Matrix"
   ]
  },
  {
   "cell_type": "code",
   "execution_count": 66,
   "metadata": {},
   "outputs": [
    {
     "name": "stdout",
     "output_type": "stream",
     "text": [
      "[[ 2  0  0  0  0  0  0  0  0  0  0  0  0  0  0  0  0  0  0  0  0  0  0  0\n",
      "   0]\n",
      " [ 0  6  0  0  0  0  0  0  0  0  0  0  0  0  0  0  0  0  0  0  0  0  0  0\n",
      "   0]\n",
      " [ 0  0  4  0  0  0  0  0  0  0  0  0  0  0  0  0  0  0  0  0  0  0  0  0\n",
      "   0]\n",
      " [ 0  0  0 11  0  0  0  0  0  0  0  0  0  0  0  0  0  0  0  0  0  0  0  0\n",
      "   0]\n",
      " [ 0  0  0  0 11  0  0  0  0  0  0  0  0  0  0  0  0  0  0  0  0  0  0  0\n",
      "   0]\n",
      " [ 0  0  0  0  0 18  0  0  0  0  0  0  0  0  0  0  0  0  0  0  0  0  0  0\n",
      "   0]\n",
      " [ 0  0  0  0  0  0  8  0  0  0  0  0  0  0  0  0  0  0  0  0  0  0  0  0\n",
      "   0]\n",
      " [ 0  0  0  0  0  0  0  7  0  0  0  0  0  0  0  0  0  0  0  0  0  0  0  0\n",
      "   0]\n",
      " [ 0  0  0  0  0  0  0  0  5  0  0  0  0  0  0  0  0  0  0  0  0  0  0  0\n",
      "   0]\n",
      " [ 0  0  0  0  0  0  0  0  0  8  0  0  0  0  0  0  0  0  0  0  0  0  0  0\n",
      "   0]\n",
      " [ 0  0  0  0  0  0  0  0  0  0 17  0  0  0  0  0  0  0  0  0  0  0  0  0\n",
      "   0]\n",
      " [ 0  0  0  0  0  0  0  0  0  0  0 21  0  0  0  0  0  0  0  0  0  0  0  0\n",
      "   0]\n",
      " [ 0  0  0  0  0  0  0  0  0  0  0  0  5  0  0  0  0  0  0  0  0  0  0  0\n",
      "   0]\n",
      " [ 0  0  0  0  0  0  0  0  0  0  0  0  0  2  0  0  0  0  0  0  0  0  0  0\n",
      "   0]\n",
      " [ 0  0  0  0  0  0  0  0  0  0  0  0  0  0 12  0  0  0  0  0  0  0  0  0\n",
      "   0]\n",
      " [ 0  0  0  0  0  0  0  0  0  0  0  0  0  0  0 11  0  0  0  0  0  0  0  0\n",
      "   0]\n",
      " [ 0  0  0  0  0  0  0  0  0  0  0  0  0  0  0  0 12  0  0  0  0  0  0  0\n",
      "   0]\n",
      " [ 0  0  0  0  0  0  0  0  0  0  0  0  0  0  0  0  0  8  0  0  0  0  0  0\n",
      "   0]\n",
      " [ 0  0  0  0  0  0  0  0  0  0  0  0  0  0  0  0  0  0 11  0  0  0  0  0\n",
      "   0]\n",
      " [ 0  0  0  0  0  0  0  0  0  0  0  0  0  0  0  0  0  0  0  5  0  0  0  0\n",
      "   0]\n",
      " [ 0  0  0  0  0  0  0  0  0  0  0  0  0  0  0  0  0  0  0  0 39  0  0  0\n",
      "   0]\n",
      " [ 0  0  0  0  0  0  0  0  0  0  0  0  0  0  0  0  0  0  0  0  0  9  0  0\n",
      "   0]\n",
      " [ 0  0  0  0  0  0  0  0  0  0  0  0  0  0  0  0  0  0  0  0  0  0  7  0\n",
      "   0]\n",
      " [ 0  0  0  0  0  0  0  0  0  0  0  0  0  0  0  0  0  0  0  0  0  0  0 10\n",
      "   0]\n",
      " [ 0  0  0  0  0  0  0  0  0  0  0  0  0  0  0  0  0  0  0  0  0  0  0  0\n",
      "   6]]\n"
     ]
    }
   ],
   "source": [
    "print(confusion_matrix(y_test, gb_pred))"
   ]
  },
  {
   "cell_type": "markdown",
   "metadata": {},
   "source": [
    "### Classification Report"
   ]
  },
  {
   "cell_type": "code",
   "execution_count": 67,
   "metadata": {},
   "outputs": [
    {
     "name": "stdout",
     "output_type": "stream",
     "text": [
      "              precision    recall  f1-score   support\n",
      "\n",
      "           0       1.00      1.00      1.00         2\n",
      "           1       1.00      1.00      1.00         6\n",
      "           2       1.00      1.00      1.00         4\n",
      "           3       1.00      1.00      1.00        11\n",
      "           4       1.00      1.00      1.00        11\n",
      "           5       1.00      1.00      1.00        18\n",
      "           7       1.00      1.00      1.00         8\n",
      "           8       1.00      1.00      1.00         7\n",
      "           9       1.00      1.00      1.00         5\n",
      "          10       1.00      1.00      1.00         8\n",
      "          11       1.00      1.00      1.00        17\n",
      "          12       1.00      1.00      1.00        21\n",
      "          13       1.00      1.00      1.00         5\n",
      "          14       1.00      1.00      1.00         2\n",
      "          15       1.00      1.00      1.00        12\n",
      "          16       1.00      1.00      1.00        11\n",
      "          17       1.00      1.00      1.00        12\n",
      "          18       1.00      1.00      1.00         8\n",
      "          19       1.00      1.00      1.00        11\n",
      "          20       1.00      1.00      1.00         5\n",
      "          21       1.00      1.00      1.00        39\n",
      "          22       1.00      1.00      1.00         9\n",
      "          23       1.00      1.00      1.00         7\n",
      "          24       1.00      1.00      1.00        10\n",
      "          25       1.00      1.00      1.00         6\n",
      "\n",
      "    accuracy                           1.00       255\n",
      "   macro avg       1.00      1.00      1.00       255\n",
      "weighted avg       1.00      1.00      1.00       255\n",
      "\n"
     ]
    }
   ],
   "source": [
    "print(classification_report(y_test, gb_pred))"
   ]
  }
 ],
 "metadata": {
  "kernelspec": {
   "display_name": "Python 3",
   "language": "python",
   "name": "python3"
  },
  "language_info": {
   "codemirror_mode": {
    "name": "ipython",
    "version": 3
   },
   "file_extension": ".py",
   "mimetype": "text/x-python",
   "name": "python",
   "nbconvert_exporter": "python",
   "pygments_lexer": "ipython3",
   "version": "3.8.5"
  }
 },
 "nbformat": 4,
 "nbformat_minor": 4
}
